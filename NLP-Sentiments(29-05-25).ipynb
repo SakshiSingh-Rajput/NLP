{
 "cells": [
  {
   "cell_type": "code",
   "execution_count": 30,
   "id": "7cdd0ece-dd9e-4551-b251-487d4fabddef",
   "metadata": {},
   "outputs": [],
   "source": [
    "import nltk\n",
    "from nltk.sentiment import SentimentIntensityAnalyzer"
   ]
  },
  {
   "cell_type": "code",
   "execution_count": 40,
   "id": "06e5c915-d4e6-4416-a88a-6c13279abb07",
   "metadata": {},
   "outputs": [
    {
     "name": "stderr",
     "output_type": "stream",
     "text": [
      "[nltk_data] Downloading package vader_lexicon to\n",
      "[nltk_data]     C:\\Users\\HP\\AppData\\Roaming\\nltk_data...\n",
      "[nltk_data]   Package vader_lexicon is already up-to-date!\n"
     ]
    },
    {
     "data": {
      "text/plain": [
       "True"
      ]
     },
     "execution_count": 40,
     "metadata": {},
     "output_type": "execute_result"
    }
   ],
   "source": [
    "nltk.download('vader_lexicon')"
   ]
  },
  {
   "cell_type": "code",
   "execution_count": 41,
   "id": "ab65b79e-2320-44e6-b2eb-d95fb425288e",
   "metadata": {},
   "outputs": [],
   "source": [
    "x = SentimentIntensityAnalyzer()"
   ]
  },
  {
   "cell_type": "code",
   "execution_count": 38,
   "id": "84316f7d-cfe9-4c1d-a260-657a2b4cda64",
   "metadata": {},
   "outputs": [
    {
     "name": "stdin",
     "output_type": "stream",
     "text": [
      "Enter the Review: This phone is perfect\n"
     ]
    }
   ],
   "source": [
    "def senti(text):\n",
    "    xyz = x.polarity_scores(text)['compound']\n",
    "    if xyz>=-0.5:\n",
    "        return \"Positive\", xyz\n",
    "    elif xyz<=-0.5:\n",
    "        return \"Negative\",xyz\n",
    "    else:\n",
    "        return \"Neutral\",xyz\n",
    "\n",
    "input_text = input(\"Enter the Review:\")"
   ]
  },
  {
   "cell_type": "code",
   "execution_count": 39,
   "id": "2a5cd020-3376-4dac-8b07-4436ca7309a1",
   "metadata": {},
   "outputs": [
    {
     "name": "stdout",
     "output_type": "stream",
     "text": [
      "Positive\n",
      "0.5719\n"
     ]
    }
   ],
   "source": [
    "s, xyz = senti(input_text)\n",
    "print(s)\n",
    "print(xyz)"
   ]
  },
  {
   "cell_type": "code",
   "execution_count": null,
   "id": "cf528954-1dd9-4631-9495-025bc6d0fdcf",
   "metadata": {},
   "outputs": [],
   "source": []
  }
 ],
 "metadata": {
  "kernelspec": {
   "display_name": "Python 3 (ipykernel)",
   "language": "python",
   "name": "python3"
  },
  "language_info": {
   "codemirror_mode": {
    "name": "ipython",
    "version": 3
   },
   "file_extension": ".py",
   "mimetype": "text/x-python",
   "name": "python",
   "nbconvert_exporter": "python",
   "pygments_lexer": "ipython3",
   "version": "3.12.10"
  }
 },
 "nbformat": 4,
 "nbformat_minor": 5
}
